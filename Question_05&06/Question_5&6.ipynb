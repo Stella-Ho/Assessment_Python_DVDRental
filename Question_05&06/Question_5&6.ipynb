{
 "cells": [
  {
   "cell_type": "code",
   "execution_count": 1,
   "id": "81def927-0afb-4e60-9f35-c44f406e0248",
   "metadata": {},
   "outputs": [],
   "source": [
    "import pandas as pd\n",
    "import numpy as np\n",
    "import matplotlib.pyplot as plt"
   ]
  },
  {
   "cell_type": "code",
   "execution_count": 2,
   "id": "8e470e4d-deab-4780-8847-e6f831c4f98d",
   "metadata": {},
   "outputs": [
    {
     "data": {
      "text/html": [
       "<div>\n",
       "<style scoped>\n",
       "    .dataframe tbody tr th:only-of-type {\n",
       "        vertical-align: middle;\n",
       "    }\n",
       "\n",
       "    .dataframe tbody tr th {\n",
       "        vertical-align: top;\n",
       "    }\n",
       "\n",
       "    .dataframe thead th {\n",
       "        text-align: right;\n",
       "    }\n",
       "</style>\n",
       "<table border=\"1\" class=\"dataframe\">\n",
       "  <thead>\n",
       "    <tr style=\"text-align: right;\">\n",
       "      <th></th>\n",
       "      <th>country_id</th>\n",
       "      <th>country</th>\n",
       "      <th>last_update</th>\n",
       "    </tr>\n",
       "  </thead>\n",
       "  <tbody>\n",
       "    <tr>\n",
       "      <th>0</th>\n",
       "      <td>1</td>\n",
       "      <td>Afghanistan</td>\n",
       "      <td>2006-02-15 09:44:00</td>\n",
       "    </tr>\n",
       "    <tr>\n",
       "      <th>1</th>\n",
       "      <td>2</td>\n",
       "      <td>Algeria</td>\n",
       "      <td>2006-02-15 09:44:00</td>\n",
       "    </tr>\n",
       "    <tr>\n",
       "      <th>2</th>\n",
       "      <td>3</td>\n",
       "      <td>American Samoa</td>\n",
       "      <td>2006-02-15 09:44:00</td>\n",
       "    </tr>\n",
       "    <tr>\n",
       "      <th>3</th>\n",
       "      <td>4</td>\n",
       "      <td>Angola</td>\n",
       "      <td>2006-02-15 09:44:00</td>\n",
       "    </tr>\n",
       "    <tr>\n",
       "      <th>4</th>\n",
       "      <td>5</td>\n",
       "      <td>Anguilla</td>\n",
       "      <td>2006-02-15 09:44:00</td>\n",
       "    </tr>\n",
       "  </tbody>\n",
       "</table>\n",
       "</div>"
      ],
      "text/plain": [
       "   country_id         country          last_update\n",
       "0           1     Afghanistan  2006-02-15 09:44:00\n",
       "1           2         Algeria  2006-02-15 09:44:00\n",
       "2           3  American Samoa  2006-02-15 09:44:00\n",
       "3           4          Angola  2006-02-15 09:44:00\n",
       "4           5        Anguilla  2006-02-15 09:44:00"
      ]
     },
     "execution_count": 2,
     "metadata": {},
     "output_type": "execute_result"
    }
   ],
   "source": [
    "Query_05_df = pd.read_csv(\"C:\\\\Users\\\\stell\\\\Documents\\\\GitHub\\\\Python\\\\Assessment_Python_DVDRental\\\\Query_05\\\\Query_5_SQL.csv\")\n",
    "Query_05_df.head()"
   ]
  },
  {
   "cell_type": "code",
   "execution_count": 3,
   "id": "a2e4112e-8b36-4ecf-9753-3127ba3a9c87",
   "metadata": {},
   "outputs": [
    {
     "name": "stdout",
     "output_type": "stream",
     "text": [
      "     country_id               country\n",
      "0             1           Afghanistan\n",
      "1             2               Algeria\n",
      "2             3        American Samoa\n",
      "3             4                Angola\n",
      "4             5              Anguilla\n",
      "..          ...                   ...\n",
      "104         105               Vietnam\n",
      "105         106  Virgin Islands, U.S.\n",
      "106         107                 Yemen\n",
      "107         108            Yugoslavia\n",
      "108         109                Zambia\n",
      "\n",
      "[109 rows x 2 columns]\n"
     ]
    }
   ],
   "source": [
    "country = pd.DataFrame(Query_05_df, columns=['country_id', 'country'])\n",
    "print(country)"
   ]
  },
  {
   "cell_type": "code",
   "execution_count": 4,
   "id": "cdbf16d9-452b-4470-9c88-e4ccdcbb68eb",
   "metadata": {},
   "outputs": [],
   "source": [
    "country_id_mapping = Query_05_df[['country_id', 'country']].set_index('country').to_dict()['country_id']"
   ]
  },
  {
   "cell_type": "code",
   "execution_count": 6,
   "id": "4bf02971-4efb-4c9f-82bc-f1db942d77f2",
   "metadata": {},
   "outputs": [
    {
     "name": "stdout",
     "output_type": "stream",
     "text": [
      "              country                     grouping\n",
      "country_id                                        \n",
      "8           Australia                  High income\n",
      "33            Finland                  High income\n",
      "34             France                  High income\n",
      "38            Germany                  High income\n",
      "50              Japan                  High income\n",
      "15             Brazil          Upper middle income\n",
      "17           Bulgaria          Upper middle income\n",
      "23              China          Upper middle income\n",
      "59           Malaysia          Upper middle income\n",
      "97             Turkey          Upper middle income\n",
      "29              Egypt  Low and lower middle income\n",
      "18           Cambodia  Low and lower middle income\n",
      "44              India  Low and lower middle income\n",
      "31           Ethiopia  Low and lower middle income\n",
      "66              Nepal  Low and lower middle income\n"
     ]
    }
   ],
   "source": [
    "grouping  = {\n",
    "    'High income': ['Australia', 'Finland', 'France', 'Germany','Japan'],\n",
    "    'Upper middle income': ['Brazil', 'Bulgaria', 'China', 'Malaysia','Turkey'],\n",
    "    'Low and lower middle income': ['Egypt', 'Cambodia', 'India', 'Ethiopia' , 'Nepal'],}\n",
    "\n",
    "country_data = []\n",
    "for group, countries in grouping.items():\n",
    "    for country in countries:\n",
    "        country_data.append({\n",
    "            'country': country,\n",
    "            'country_id': country_id_mapping.get(country),\n",
    "            'grouping': group\n",
    "        })\n",
    "\n",
    "country_df = pd.DataFrame(country_data)\n",
    "country_df = country_df.set_index('country_id')\n",
    "print(country_df)"
   ]
  },
  {
   "cell_type": "code",
   "execution_count": 7,
   "id": "040ce318-1aa4-4a58-b853-e310ffd1ffba",
   "metadata": {},
   "outputs": [
    {
     "name": "stdout",
     "output_type": "stream",
     "text": [
      "    country_id    country          last_update                     grouping\n",
      "0            8  Australia  2006-02-15 09:44:00                  High income\n",
      "1           33    Finland  2006-02-15 09:44:00                  High income\n",
      "2           34     France  2006-02-15 09:44:00                  High income\n",
      "3           38    Germany  2006-02-15 09:44:00                  High income\n",
      "4           50      Japan  2006-02-15 09:44:00                  High income\n",
      "5           15     Brazil  2006-02-15 09:44:00          Upper middle income\n",
      "6           17   Bulgaria  2006-02-15 09:44:00          Upper middle income\n",
      "7           23      China  2006-02-15 09:44:00          Upper middle income\n",
      "8           59   Malaysia  2006-02-15 09:44:00          Upper middle income\n",
      "9           97     Turkey  2006-02-15 09:44:00          Upper middle income\n",
      "10          29      Egypt  2006-02-15 09:44:00  Low and lower middle income\n",
      "11          18   Cambodia  2006-02-15 09:44:00  Low and lower middle income\n",
      "12          44      India  2006-02-15 09:44:00  Low and lower middle income\n",
      "13          31   Ethiopia  2006-02-15 09:44:00  Low and lower middle income\n",
      "14          66      Nepal  2006-02-15 09:44:00  Low and lower middle income\n"
     ]
    }
   ],
   "source": [
    "merged_df = pd.merge(Query_05_df, country_df, on='country', how='right')\n",
    "print(merged_df)"
   ]
  }
 ],
 "metadata": {
  "kernelspec": {
   "display_name": "Python 3 (ipykernel)",
   "language": "python",
   "name": "python3"
  },
  "language_info": {
   "codemirror_mode": {
    "name": "ipython",
    "version": 3
   },
   "file_extension": ".py",
   "mimetype": "text/x-python",
   "name": "python",
   "nbconvert_exporter": "python",
   "pygments_lexer": "ipython3",
   "version": "3.11.4"
  }
 },
 "nbformat": 4,
 "nbformat_minor": 5
}
