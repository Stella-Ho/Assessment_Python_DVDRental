{
 "cells": [
  {
   "cell_type": "code",
   "execution_count": 1,
   "id": "4985a714-dac2-44ff-afbe-7a150ba72085",
   "metadata": {},
   "outputs": [],
   "source": [
    "import pandas as pd\n",
    "import numpy as np\n",
    "import matplotlib.pyplot as plt"
   ]
  },
  {
   "cell_type": "code",
   "execution_count": 2,
   "id": "46e3da07-b8e8-454d-968b-d3c6ac199842",
   "metadata": {},
   "outputs": [
    {
     "data": {
      "text/html": [
       "<div>\n",
       "<style scoped>\n",
       "    .dataframe tbody tr th:only-of-type {\n",
       "        vertical-align: middle;\n",
       "    }\n",
       "\n",
       "    .dataframe tbody tr th {\n",
       "        vertical-align: top;\n",
       "    }\n",
       "\n",
       "    .dataframe thead th {\n",
       "        text-align: right;\n",
       "    }\n",
       "</style>\n",
       "<table border=\"1\" class=\"dataframe\">\n",
       "  <thead>\n",
       "    <tr style=\"text-align: right;\">\n",
       "      <th></th>\n",
       "      <th>actor_id</th>\n",
       "      <th>actor_name</th>\n",
       "      <th>total_amount</th>\n",
       "    </tr>\n",
       "  </thead>\n",
       "  <tbody>\n",
       "    <tr>\n",
       "      <th>0</th>\n",
       "      <td>107</td>\n",
       "      <td>Gina_Degeneres</td>\n",
       "      <td>3129.17</td>\n",
       "    </tr>\n",
       "    <tr>\n",
       "      <th>1</th>\n",
       "      <td>181</td>\n",
       "      <td>Matthew_Carrey</td>\n",
       "      <td>2543.78</td>\n",
       "    </tr>\n",
       "    <tr>\n",
       "      <th>2</th>\n",
       "      <td>198</td>\n",
       "      <td>Mary_Keitel</td>\n",
       "      <td>2426.92</td>\n",
       "    </tr>\n",
       "    <tr>\n",
       "      <th>3</th>\n",
       "      <td>81</td>\n",
       "      <td>Scarlett_Damon</td>\n",
       "      <td>2403.81</td>\n",
       "    </tr>\n",
       "    <tr>\n",
       "      <th>4</th>\n",
       "      <td>102</td>\n",
       "      <td>Walter_Torn</td>\n",
       "      <td>2403.18</td>\n",
       "    </tr>\n",
       "  </tbody>\n",
       "</table>\n",
       "</div>"
      ],
      "text/plain": [
       "   actor_id      actor_name  total_amount\n",
       "0       107  Gina_Degeneres       3129.17\n",
       "1       181  Matthew_Carrey       2543.78\n",
       "2       198     Mary_Keitel       2426.92\n",
       "3        81  Scarlett_Damon       2403.81\n",
       "4       102     Walter_Torn       2403.18"
      ]
     },
     "execution_count": 2,
     "metadata": {},
     "output_type": "execute_result"
    }
   ],
   "source": [
    "Query_04_df = pd.read_csv(\"C:\\\\Users\\\\stell\\\\Documents\\\\GitHub\\\\Python\\\\Assessment_Python_DVDRental\\\\Query_04\\\\Query_4_SQL.csv\")\n",
    "Query_04_df.head()"
   ]
  },
  {
   "cell_type": "code",
   "execution_count": 3,
   "id": "5f96b646-4a74-4eb9-9db4-3c17df85199c",
   "metadata": {},
   "outputs": [
    {
     "name": "stdout",
     "output_type": "stream",
     "text": [
      "         actor_name  total_amount\n",
      "0    Gina_Degeneres       3129.17\n",
      "1    Matthew_Carrey       2543.78\n",
      "2       Mary_Keitel       2426.92\n",
      "3    Scarlett_Damon       2403.81\n",
      "4       Walter_Torn       2403.18\n",
      "..              ...           ...\n",
      "195     Sandra_Peck        952.36\n",
      "196       Judy_Dean        904.70\n",
      "197      Adam_Grant        869.46\n",
      "198  Sissy_Sobieski        830.84\n",
      "199       Emily_Dee        812.04\n",
      "\n",
      "[200 rows x 2 columns]\n"
     ]
    }
   ],
   "source": [
    "rev = pd.DataFrame(Query_04_df, columns=['actor_name', 'total_amount'])\n",
    "print(rev)"
   ]
  },
  {
   "cell_type": "code",
   "execution_count": 4,
   "id": "bd2c99f8-0c9f-417a-baa8-0c93e76347d1",
   "metadata": {},
   "outputs": [
    {
     "name": "stdout",
     "output_type": "stream",
     "text": [
      "Gina_Degeneres: 3129.17\n",
      "Matthew_Carrey: 2543.78\n",
      "Mary_Keitel: 2426.92\n",
      "Scarlett_Damon: 2403.81\n",
      "Walter_Torn: 2403.18\n",
      "Henry_Berry: 2392.36\n",
      "Christian_Akroyd: 2378.97\n",
      "Angela_Witherspoon: 2357.11\n",
      "Cameron_Zellweger: 2322.94\n",
      "Woody_Hoffman: 2315.92\n"
     ]
    }
   ],
   "source": [
    "sorted_actors = rev.sort_values(by='total_amount', ascending=False)\n",
    "\n",
    "top_10_actors = sorted_actors['actor_name'].head(10).tolist()\n",
    "top_10_revenues = sorted_actors['total_amount'].head(10).tolist()\n",
    "\n",
    "for actor, revenue in zip(top_10_actors, top_10_revenues):\n",
    "    print(f\"{actor}: {revenue}\")"
   ]
  }
 ],
 "metadata": {
  "kernelspec": {
   "display_name": "Python 3 (ipykernel)",
   "language": "python",
   "name": "python3"
  },
  "language_info": {
   "codemirror_mode": {
    "name": "ipython",
    "version": 3
   },
   "file_extension": ".py",
   "mimetype": "text/x-python",
   "name": "python",
   "nbconvert_exporter": "python",
   "pygments_lexer": "ipython3",
   "version": "3.11.4"
  }
 },
 "nbformat": 4,
 "nbformat_minor": 5
}
