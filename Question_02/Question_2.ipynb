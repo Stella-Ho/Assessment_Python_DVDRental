{
 "cells": [
  {
   "cell_type": "code",
   "execution_count": 1,
   "id": "abf8c522-9522-44b8-b6b7-d13b87c42ce7",
   "metadata": {},
   "outputs": [],
   "source": [
    "import pandas as pd\n",
    "import numpy as np\n",
    "import matplotlib.pyplot as plt"
   ]
  },
  {
   "cell_type": "code",
   "execution_count": 2,
   "id": "198ae6cb-b305-4f86-a008-02e8f0a65871",
   "metadata": {},
   "outputs": [
    {
     "data": {
      "text/html": [
       "<div>\n",
       "<style scoped>\n",
       "    .dataframe tbody tr th:only-of-type {\n",
       "        vertical-align: middle;\n",
       "    }\n",
       "\n",
       "    .dataframe tbody tr th {\n",
       "        vertical-align: top;\n",
       "    }\n",
       "\n",
       "    .dataframe thead th {\n",
       "        text-align: right;\n",
       "    }\n",
       "</style>\n",
       "<table border=\"1\" class=\"dataframe\">\n",
       "  <thead>\n",
       "    <tr style=\"text-align: right;\">\n",
       "      <th></th>\n",
       "      <th>film_id</th>\n",
       "      <th>title</th>\n",
       "      <th>description</th>\n",
       "    </tr>\n",
       "  </thead>\n",
       "  <tbody>\n",
       "    <tr>\n",
       "      <th>0</th>\n",
       "      <td>1</td>\n",
       "      <td>Academy Dinosaur</td>\n",
       "      <td>A Epic Drama of a Feminist And a Mad Scientist...</td>\n",
       "    </tr>\n",
       "    <tr>\n",
       "      <th>1</th>\n",
       "      <td>2</td>\n",
       "      <td>Ace Goldfinger</td>\n",
       "      <td>A Astounding Epistle of a Database Administrat...</td>\n",
       "    </tr>\n",
       "    <tr>\n",
       "      <th>2</th>\n",
       "      <td>3</td>\n",
       "      <td>Adaptation Holes</td>\n",
       "      <td>A Astounding Reflection of a Lumberjack And a ...</td>\n",
       "    </tr>\n",
       "    <tr>\n",
       "      <th>3</th>\n",
       "      <td>4</td>\n",
       "      <td>Affair Prejudice</td>\n",
       "      <td>A Fanciful Documentary of a Frisbee And a Lumb...</td>\n",
       "    </tr>\n",
       "    <tr>\n",
       "      <th>4</th>\n",
       "      <td>5</td>\n",
       "      <td>African Egg</td>\n",
       "      <td>A Fast-Paced Documentary of a Pastry Chef And ...</td>\n",
       "    </tr>\n",
       "  </tbody>\n",
       "</table>\n",
       "</div>"
      ],
      "text/plain": [
       "   film_id             title  \\\n",
       "0        1  Academy Dinosaur   \n",
       "1        2    Ace Goldfinger   \n",
       "2        3  Adaptation Holes   \n",
       "3        4  Affair Prejudice   \n",
       "4        5       African Egg   \n",
       "\n",
       "                                         description  \n",
       "0  A Epic Drama of a Feminist And a Mad Scientist...  \n",
       "1  A Astounding Epistle of a Database Administrat...  \n",
       "2  A Astounding Reflection of a Lumberjack And a ...  \n",
       "3  A Fanciful Documentary of a Frisbee And a Lumb...  \n",
       "4  A Fast-Paced Documentary of a Pastry Chef And ...  "
      ]
     },
     "execution_count": 2,
     "metadata": {},
     "output_type": "execute_result"
    }
   ],
   "source": [
    "Query_02_df = pd.read_csv(\"C:\\\\Users\\\\stell\\\\Documents\\\\GitHub\\\\Python\\\\Assessment_Python_DVDRental\\\\Query_02\\\\Query_2_SQL.csv\")\n",
    "Query_02_df.head()"
   ]
  },
  {
   "cell_type": "code",
   "execution_count": 3,
   "id": "6255be59-3b84-4dbf-9a57-ac3f241e4b18",
   "metadata": {},
   "outputs": [],
   "source": [
    "def sentiment_detection(sentence):\n",
    "    positive_words = ('Happy', 'Sunny', 'Positive', 'Touching', 'Optimistic', 'Wonderful')\n",
    "    negative_words = ('Sad', 'Terrible', 'Frightening', 'Fateful', 'Scary','Fanciful')\n",
    "\n",
    "    positive = any(sentence.count(i) > 0 for i in positive_words)\n",
    "    negative = any(sentence.count(i) > 0 for i in negative_words)\n",
    "\n",
    "    if positive == negative == False:\n",
    "        return \"neutral\"\n",
    "    elif positive != negative:\n",
    "        return \"positive\" if positive else \"negative\"\n",
    "    else:\n",
    "        return \"mixed\""
   ]
  },
  {
   "cell_type": "code",
   "execution_count": 4,
   "id": "d462c81f-83ee-4d6b-9dee-11c116e82437",
   "metadata": {},
   "outputs": [
    {
     "data": {
      "text/plain": [
       "0       neutral\n",
       "1       neutral\n",
       "2       neutral\n",
       "3      negative\n",
       "4       neutral\n",
       "         ...   \n",
       "995     neutral\n",
       "996    positive\n",
       "997    negative\n",
       "998    negative\n",
       "999     neutral\n",
       "Name: description, Length: 1000, dtype: object"
      ]
     },
     "execution_count": 4,
     "metadata": {},
     "output_type": "execute_result"
    }
   ],
   "source": [
    "Query_02_df['description'].apply(sentiment_detection)"
   ]
  },
  {
   "cell_type": "code",
   "execution_count": 5,
   "id": "a555881b-c601-40af-a064-824cce38c8fe",
   "metadata": {},
   "outputs": [],
   "source": [
    "Query_02_df['sentiment'] = Query_02_df['description'].apply(sentiment_detection)"
   ]
  },
  {
   "cell_type": "code",
   "execution_count": 6,
   "id": "8d7a763a-c988-4084-b294-a4fdea333bf8",
   "metadata": {},
   "outputs": [
    {
     "name": "stdout",
     "output_type": "stream",
     "text": [
      "0       neutral\n",
      "1       neutral\n",
      "2       neutral\n",
      "3      negative\n",
      "4       neutral\n",
      "         ...   \n",
      "995     neutral\n",
      "996    positive\n",
      "997    negative\n",
      "998    negative\n",
      "999     neutral\n",
      "Name: sentiment, Length: 1000, dtype: object\n"
     ]
    }
   ],
   "source": [
    "print(Query_02_df['sentiment'])"
   ]
  },
  {
   "cell_type": "code",
   "execution_count": 7,
   "id": "1891fc5a-d29f-4d26-8044-5bfc4e11d3eb",
   "metadata": {},
   "outputs": [
    {
     "name": "stdout",
     "output_type": "stream",
     "text": [
      "     film_id              title  \\\n",
      "0          1   Academy Dinosaur   \n",
      "1          2     Ace Goldfinger   \n",
      "2          3   Adaptation Holes   \n",
      "3          4   Affair Prejudice   \n",
      "4          5        African Egg   \n",
      "..       ...                ...   \n",
      "995      996     Young Language   \n",
      "996      997         Youth Kick   \n",
      "997      998       Zhivago Core   \n",
      "998      999  Zoolander Fiction   \n",
      "999     1000          Zorro Ark   \n",
      "\n",
      "                                           description sentiment  \n",
      "0    A Epic Drama of a Feminist And a Mad Scientist...   neutral  \n",
      "1    A Astounding Epistle of a Database Administrat...   neutral  \n",
      "2    A Astounding Reflection of a Lumberjack And a ...   neutral  \n",
      "3    A Fanciful Documentary of a Frisbee And a Lumb...  negative  \n",
      "4    A Fast-Paced Documentary of a Pastry Chef And ...   neutral  \n",
      "..                                                 ...       ...  \n",
      "995  A Unbelieveable Yarn of a Boat And a Database ...   neutral  \n",
      "996  A Touching Drama of a Teacher And a Cat who mu...  positive  \n",
      "997  A Fateful Yarn of a Composer And a Man who mus...  negative  \n",
      "998  A Fateful Reflection of a Waitress And a Boat ...  negative  \n",
      "999  A Intrepid Panorama of a Mad Scientist And a B...   neutral  \n",
      "\n",
      "[1000 rows x 4 columns]\n"
     ]
    }
   ],
   "source": [
    "print(Query_02_df)"
   ]
  }
 ],
 "metadata": {
  "kernelspec": {
   "display_name": "Python 3 (ipykernel)",
   "language": "python",
   "name": "python3"
  },
  "language_info": {
   "codemirror_mode": {
    "name": "ipython",
    "version": 3
   },
   "file_extension": ".py",
   "mimetype": "text/x-python",
   "name": "python",
   "nbconvert_exporter": "python",
   "pygments_lexer": "ipython3",
   "version": "3.11.4"
  }
 },
 "nbformat": 4,
 "nbformat_minor": 5
}
